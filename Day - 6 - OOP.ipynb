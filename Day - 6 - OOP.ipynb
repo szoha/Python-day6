{
 "cells": [
  {
   "cell_type": "markdown",
   "metadata": {},
   "source": [
    "# Creating simple class"
   ]
  },
  {
   "cell_type": "code",
   "execution_count": 6,
   "metadata": {},
   "outputs": [],
   "source": [
    "#DOG\n",
    "class Dog:\n",
    "    cv = \"asdfasfasf\"\n",
    "    def __init__(self,name,breed):\n",
    "        self.name = name\n",
    "        self.breed = breed\n",
    "    def bark(self):\n",
    "        print(self.name , \"says woof\")\n",
    "        "
   ]
  },
  {
   "cell_type": "code",
   "execution_count": 7,
   "metadata": {},
   "outputs": [
    {
     "name": "stdout",
     "output_type": "stream",
     "text": [
      "d1 says woof\n",
      "d2 says woof\n"
     ]
    }
   ],
   "source": [
    "d1 = Dog(\"d1\",\"b1\")\n",
    "d2 = Dog(\"d2\",\"b2\")\n",
    "\n",
    "d1.bark()\n",
    "d2.bark()"
   ]
  },
  {
   "cell_type": "code",
   "execution_count": 8,
   "metadata": {},
   "outputs": [],
   "source": [
    "d1.age = 25 # not recommended"
   ]
  },
  {
   "cell_type": "code",
   "execution_count": 9,
   "metadata": {},
   "outputs": [
    {
     "name": "stdout",
     "output_type": "stream",
     "text": [
      "d1 b1 25\n"
     ]
    }
   ],
   "source": [
    "print(d1.name, d1.breed, d1.age)"
   ]
  },
  {
   "cell_type": "code",
   "execution_count": 10,
   "metadata": {},
   "outputs": [],
   "source": [
    "# inheritance"
   ]
  },
  {
   "cell_type": "code",
   "execution_count": 12,
   "metadata": {},
   "outputs": [],
   "source": [
    "class Animal:\n",
    "    def __init__(self,name):\n",
    "        self.name = name\n",
    "        print(\"parent constructor is called\")\n",
    "    def speak(self):\n",
    "        print(\"Animal is speaking\")\n",
    "        \n"
   ]
  },
  {
   "cell_type": "code",
   "execution_count": 20,
   "metadata": {},
   "outputs": [],
   "source": [
    "class Dog(Animal):\n",
    "    def __init__(self):\n",
    "        print(\"Child contructor is called\")\n",
    "    def speak(self):\n",
    "        print(\"Dog is barking\")\n",
    "        super().speak()\n",
    "        "
   ]
  },
  {
   "cell_type": "code",
   "execution_count": 23,
   "metadata": {},
   "outputs": [],
   "source": [
    "class dogchild(Dog):\n",
    "    def __init__(self):\n",
    "        print(\"dog child constructor is called\")\n",
    "        super().__init__()"
   ]
  },
  {
   "cell_type": "code",
   "execution_count": 24,
   "metadata": {},
   "outputs": [
    {
     "name": "stdout",
     "output_type": "stream",
     "text": [
      "dog child constructor is called\n",
      "Child contructor is called\n"
     ]
    }
   ],
   "source": [
    "dc1 = dogchild()"
   ]
  },
  {
   "cell_type": "code",
   "execution_count": null,
   "metadata": {},
   "outputs": [],
   "source": []
  },
  {
   "cell_type": "code",
   "execution_count": null,
   "metadata": {},
   "outputs": [],
   "source": []
  },
  {
   "cell_type": "code",
   "execution_count": 14,
   "metadata": {},
   "outputs": [
    {
     "name": "stdout",
     "output_type": "stream",
     "text": [
      "parent constructor is called\n"
     ]
    }
   ],
   "source": [
    "a1 = Animal(\"animal1\")"
   ]
  },
  {
   "cell_type": "code",
   "execution_count": 21,
   "metadata": {},
   "outputs": [
    {
     "name": "stdout",
     "output_type": "stream",
     "text": [
      "Child contructor is called\n"
     ]
    }
   ],
   "source": [
    "d1 = Dog()"
   ]
  },
  {
   "cell_type": "code",
   "execution_count": 22,
   "metadata": {},
   "outputs": [
    {
     "name": "stdout",
     "output_type": "stream",
     "text": [
      "Dog is barking\n",
      "Animal is speaking\n"
     ]
    }
   ],
   "source": [
    "d1.speak()"
   ]
  },
  {
   "cell_type": "code",
   "execution_count": null,
   "metadata": {},
   "outputs": [],
   "source": [
    "# super() -> child class -> parent class"
   ]
  },
  {
   "cell_type": "code",
   "execution_count": null,
   "metadata": {},
   "outputs": [],
   "source": []
  },
  {
   "cell_type": "markdown",
   "metadata": {},
   "source": [
    "# Dir"
   ]
  },
  {
   "cell_type": "code",
   "execution_count": 5,
   "metadata": {},
   "outputs": [
    {
     "name": "stdout",
     "output_type": "stream",
     "text": [
      "['__class__', '__delattr__', '__dict__', '__dir__', '__doc__', '__eq__', '__format__', '__ge__', '__getattribute__', '__gt__', '__hash__', '__init__', '__init_subclass__', '__le__', '__lt__', '__module__', '__ne__', '__new__', '__reduce__', '__reduce_ex__', '__repr__', '__setattr__', '__sizeof__', '__str__', '__subclasshook__', '__weakref__', 'bark', 'breed', 'name']\n"
     ]
    }
   ],
   "source": [
    "print(dir(d1))"
   ]
  },
  {
   "cell_type": "code",
   "execution_count": 34,
   "metadata": {},
   "outputs": [],
   "source": [
    "# Operator overaloding\n",
    "class Point:\n",
    "    def __init__(self,x,y):\n",
    "        self.x = x\n",
    "        self.y = y\n",
    "    def __add__(self,other): # +\n",
    "        return Point(self.x+other.x, self.y+other.y)\n",
    "    def __str__(self):\n",
    "        return f\"({self.x},{self.y})\""
   ]
  },
  {
   "cell_type": "code",
   "execution_count": 35,
   "metadata": {},
   "outputs": [],
   "source": [
    "p1 = Point(1,2)\n",
    "p2 = Point(3,4)"
   ]
  },
  {
   "cell_type": "code",
   "execution_count": 37,
   "metadata": {},
   "outputs": [
    {
     "name": "stdout",
     "output_type": "stream",
     "text": [
      "(4,6)\n"
     ]
    }
   ],
   "source": [
    "print(p1+p2)\n",
    "\n"
   ]
  },
  {
   "cell_type": "code",
   "execution_count": null,
   "metadata": {},
   "outputs": [],
   "source": []
  },
  {
   "cell_type": "code",
   "execution_count": null,
   "metadata": {},
   "outputs": [],
   "source": []
  },
  {
   "cell_type": "code",
   "execution_count": null,
   "metadata": {},
   "outputs": [],
   "source": []
  },
  {
   "cell_type": "code",
   "execution_count": 39,
   "metadata": {},
   "outputs": [],
   "source": [
    "x1 = 10\n",
    "x2 = 20"
   ]
  },
  {
   "cell_type": "code",
   "execution_count": 40,
   "metadata": {},
   "outputs": [
    {
     "name": "stdout",
     "output_type": "stream",
     "text": [
      "10 -> 20\n"
     ]
    }
   ],
   "source": [
    "print(x1 , \"->\", x2 )"
   ]
  },
  {
   "cell_type": "code",
   "execution_count": 43,
   "metadata": {},
   "outputs": [
    {
     "name": "stdout",
     "output_type": "stream",
     "text": [
      "10 -> 20\n"
     ]
    }
   ],
   "source": [
    "print(f\"{x1} -> {x2}\")"
   ]
  },
  {
   "cell_type": "markdown",
   "metadata": {},
   "source": [
    "# Bank Account Class\" – Simulate bank account operations (deposit, withdraw, balance check)."
   ]
  },
  {
   "cell_type": "code",
   "execution_count": 61,
   "metadata": {},
   "outputs": [],
   "source": [
    "class BankAccount:\n",
    "    def __init__(self,name,balance):\n",
    "        self.name = name\n",
    "        self.balance = balance\n",
    "    def deposit(self,amount):\n",
    "        if amount > 0:\n",
    "            self.balance += amount # balance = balance+amount\n",
    "            print(\"Amount added\")\n",
    "        else:\n",
    "            print(\"Amount should be positive\")\n",
    "            \n",
    "    def withdraw(self,amount):\n",
    "        if amount > self.balance:\n",
    "            print(\"Insufficient balance\")\n",
    "        elif amount <= 0:\n",
    "            print(\"Amount should be positive\")\n",
    "        else:\n",
    "            self.balance -= amount \n",
    "            print(f\"Amount {amount} has been withdrawed\")\n",
    "    def checkbalance(self):\n",
    "        print(f\"Sir/Madam {self.name} your balance is: {self.balance}\")\n",
    "        \n"
   ]
  },
  {
   "cell_type": "code",
   "execution_count": 62,
   "metadata": {},
   "outputs": [],
   "source": [
    "account1 = BankAccount(\"Ali\",5000)"
   ]
  },
  {
   "cell_type": "code",
   "execution_count": 67,
   "metadata": {},
   "outputs": [
    {
     "name": "stdout",
     "output_type": "stream",
     "text": [
      "Sir/Madam Ali your balance is: 4900\n"
     ]
    }
   ],
   "source": [
    "account1.checkbalance()"
   ]
  },
  {
   "cell_type": "code",
   "execution_count": 66,
   "metadata": {},
   "outputs": [
    {
     "name": "stdout",
     "output_type": "stream",
     "text": [
      "Amount 600 has been withdrawed\n"
     ]
    }
   ],
   "source": [
    "account1.withdraw(600)"
   ]
  },
  {
   "cell_type": "code",
   "execution_count": null,
   "metadata": {},
   "outputs": [],
   "source": [
    "# Version Control System\n",
    "# multiple developers on a single project -> history\n",
    " # Who made those changes\n",
    " # What were those changes\n",
    " # Why those changes were made\n",
    " # When were those chagnes made\n",
    "\n",
    "# GIT -> open Source -> 2005 linux developer (GIThub)(BitBucket, Gitlab)"
   ]
  },
  {
   "cell_type": "code",
   "execution_count": null,
   "metadata": {},
   "outputs": [],
   "source": [
    "# Repository - Collection files - folders  lrelated to specific project\n",
    "# Commit - Changes -> Git commit save a snapshot of your repository\n",
    "# Branch - \n",
    "# push - Own PC - code-> push\n",
    "# pull - Online github -> pull"
   ]
  },
  {
   "cell_type": "code",
   "execution_count": null,
   "metadata": {},
   "outputs": [],
   "source": []
  },
  {
   "cell_type": "code",
   "execution_count": null,
   "metadata": {},
   "outputs": [],
   "source": []
  },
  {
   "cell_type": "code",
   "execution_count": null,
   "metadata": {},
   "outputs": [],
   "source": []
  },
  {
   "cell_type": "code",
   "execution_count": null,
   "metadata": {},
   "outputs": [],
   "source": []
  }
 ],
 "metadata": {
  "kernelspec": {
   "display_name": "Python 3",
   "language": "python",
   "name": "python3"
  },
  "language_info": {
   "codemirror_mode": {
    "name": "ipython",
    "version": 3
   },
   "file_extension": ".py",
   "mimetype": "text/x-python",
   "name": "python",
   "nbconvert_exporter": "python",
   "pygments_lexer": "ipython3",
   "version": "3.6.4"
  }
 },
 "nbformat": 4,
 "nbformat_minor": 2
}
